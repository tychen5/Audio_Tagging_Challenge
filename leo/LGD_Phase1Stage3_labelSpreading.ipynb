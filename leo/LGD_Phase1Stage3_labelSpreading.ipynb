{
 "cells": [
  {
   "cell_type": "code",
   "execution_count": 2,
   "metadata": {},
   "outputs": [],
   "source": [
    "import numpy as np\n",
    "from random import shuffle\n",
    "from math import log, floor\n",
    "import pandas as pd\n",
    "import tensorflow as tf\n",
    "import tensorboard as tb\n",
    "from keras import backend as K\n",
    "from keras.models import *\n",
    "from keras.layers import *\n",
    "from keras.activations import *\n",
    "from keras.callbacks import *\n",
    "from keras.utils import *\n",
    "from keras.layers.advanced_activations import *\n",
    "from collections import Counter\n",
    "from keras import *\n",
    "from keras.engine.topology import *\n",
    "from keras.optimizers import *\n",
    "import keras\n",
    "# import pandas as pd\n",
    "# import numpy as np\n",
    "from sklearn.semi_supervised import *\n",
    "import pickle\n",
    "from keras.applications import *\n",
    "from keras.preprocessing.image import *\n",
    "from keras.losses import mse, binary_crossentropy\n",
    "import pandas as pd # data frame\n",
    "import numpy as np # matrix math\n",
    "from scipy.io import wavfile # reading the wavfile\n",
    "from sklearn.utils import shuffle # shuffling of data\n",
    "from random import sample # random selection\n",
    "from tqdm import tqdm # progress bar\n",
    "import matplotlib.pyplot as plt # to view graphs\n",
    "import wave\n",
    "from math import log, floor\n",
    "# audio processing\n",
    "from scipy import signal # audio processing\n",
    "from scipy.fftpack import dct\n",
    "import librosa # library for audio processing\n",
    "import numpy as np\n",
    "import pandas as pd\n",
    "from sklearn.decomposition import *\n",
    "from sklearn.cluster import KMeans\n",
    "import sys, os\n",
    "import random,math\n",
    "from tqdm import tqdm ##\n",
    "from xgboost.sklearn import XGBClassifier\n",
    "from sklearn.utils import shuffle # shuffling of data\n",
    "from random import sample # random selection\n",
    "from tqdm import tqdm # progress bar\n",
    "# audio processing\n",
    "from scipy import signal # audio processing\n",
    "from scipy.fftpack import dct\n",
    "import librosa # library for audio processing\n",
    "import xgboost as xgb\n",
    "import lightgbm as lgb\n",
    "import catboost as ctb\n",
    "from keras.utils import *\n",
    "from sklearn.ensemble import *\n",
    "import pickle\n",
    "from bayes_opt import BayesianOptimization\n",
    "from logHandler import Logger\n",
    "from utils import readCSV, getPath, writePickle,readPickle\n",
    "from keras.regularizers import l2\n",
    "from keras.callbacks import History ,ModelCheckpoint, EarlyStopping\n",
    "\n"
   ]
  },
  {
   "cell_type": "code",
   "execution_count": 18,
   "metadata": {},
   "outputs": [
    {
     "data": {
      "text/plain": [
       "\"\\nexit()\\nX_all = X_all[verified, :]\\nidx = list(range(X_all.shape[0]))\\nrandom.shuffle(idx)\\nxSize = math.ceil(X_all.shape[0] / num_fold)\\nsplit_X_path = os.path.join(base_path, 'X')\\nsplit_y_path = os.path.join(base_path, 'y')\\nif not os.path.exists(split_X_path):\\n    os.makedirs(split_X_path)\\nif not os.path.exists(split_y_path):\\n    os.makedirs(split_y_path)\\nfor i in range(num_fold):\\n    X = X_all[idx[i*xSize:i*xSize+xSize]]\\n    y = Y_all[idx[i*xSize:i*xSize+xSize]]\\n    print('Saving fold {}'.format(i+1))\\n    print('X.shape:', X.shape)\\n    print('y.shape:', y.shape)\\n    filename = os.path.join(split_X_path, 'X' + str(i+1) + '.npy')\\n    np.save(filename, X)\\n    filename = os.path.join(split_y_path, 'y' + str(i+1) + '.npy')\\n    np.save(filename, y)\\n    time.sleep(1)\\n\""
      ]
     },
     "execution_count": 18,
     "metadata": {},
     "output_type": "execute_result"
    }
   ],
   "source": [
    "# map_path = path of 'map.pkl'\n",
    "map_path = 'data/map.pkl'#sys.argv[1]\n",
    "\n",
    "# base_path = directory of all the data (train_label.csv, X_train.npy)\n",
    "base_path = 'feature/fbank4/'#sys.argv[2]\n",
    "\n",
    "\n",
    "with open(map_path, 'rb') as f:\n",
    "    map_dict = pickle.load(f)\n",
    "\n",
    "verified = []\n",
    "unverified = []\n",
    "\n",
    "train_label_path = os.path.join(base_path, 'train_label.csv')\n",
    "Y_train = pd.read_csv(train_label_path)\n",
    "\n",
    "for i in range(len(Y_train)):\n",
    "    if Y_train['manually_verified'][i] == 1:\n",
    "        verified.append(i)\n",
    "    else:\n",
    "        unverified.append(i)\n",
    "\n",
    "Y_un = Y_train.loc[unverified,:]\n",
    "\n",
    "fname_all = Y_un['fname']\n",
    "fname_all = np.array(fname_all)\n",
    "\n",
    "Y_dict = Y_un['label'].map(map_dict)\n",
    "Y_dict = np.array(Y_dict)\n",
    "\n",
    "Y_all = []\n",
    "for i in Y_dict:\n",
    "    Y_all.append(to_categorical(i, num_classes=41))\n",
    "Y_all = np.array(Y_all)\n",
    "\n",
    "filename = os.path.join(base_path, 'fname_unverified.npy')\n",
    "np.save(filename, fname_all)\n",
    "\n",
    "filename = os.path.join(base_path, 'y_unverified.npy')\n",
    "np.save(filename, Y_all)\n",
    "\n",
    "X_train_path = os.path.join(base_path, 'X_train.npy')\n",
    "X_all = np.load(X_train_path)\n",
    "\n",
    "X_un = X_all[unverified, :]\n",
    "filename = os.path.join(base_path, 'X_unverified.npy')\n",
    "np.save(filename, X_un)\n",
    "\n",
    "X_ver = X_all[verified, :]\n",
    "train_label_path = os.path.join(base_path, 'train_label.csv')\n",
    "Y_ver = pd.read_csv(train_label_path)\n",
    "Y_ver = Y_ver.loc[verified,:]\n",
    "'''\n",
    "exit()\n",
    "X_all = X_all[verified, :]\n",
    "idx = list(range(X_all.shape[0]))\n",
    "random.shuffle(idx)\n",
    "xSize = math.ceil(X_all.shape[0] / num_fold)\n",
    "split_X_path = os.path.join(base_path, 'X')\n",
    "split_y_path = os.path.join(base_path, 'y')\n",
    "if not os.path.exists(split_X_path):\n",
    "    os.makedirs(split_X_path)\n",
    "if not os.path.exists(split_y_path):\n",
    "    os.makedirs(split_y_path)\n",
    "for i in range(num_fold):\n",
    "    X = X_all[idx[i*xSize:i*xSize+xSize]]\n",
    "    y = Y_all[idx[i*xSize:i*xSize+xSize]]\n",
    "    print('Saving fold {}'.format(i+1))\n",
    "    print('X.shape:', X.shape)\n",
    "    print('y.shape:', y.shape)\n",
    "    filename = os.path.join(split_X_path, 'X' + str(i+1) + '.npy')\n",
    "    np.save(filename, X)\n",
    "    filename = os.path.join(split_y_path, 'y' + str(i+1) + '.npy')\n",
    "    np.save(filename, y)\n",
    "    time.sleep(1)\n",
    "'''"
   ]
  },
  {
   "cell_type": "code",
   "execution_count": 19,
   "metadata": {},
   "outputs": [
    {
     "name": "stdout",
     "output_type": "stream",
     "text": [
      "(3710, 88, 64, 1) (5763, 88, 64, 1) 3710\n"
     ]
    }
   ],
   "source": [
    "Y_ver = Y_ver['label'].map(map_dict)\n",
    "Y_ver = np.array(Y_ver)\n",
    "Y_un = Y_un['label'].map(map_dict)\n",
    "Y_un = np.array(Y_un)\n",
    "Y_un.shape , Y_ver.shape, X_un.shape , X_ver.shape\n",
    "X_test = np.load('feature/fbank4/X_test.npy')\n",
    "X_ver = np.swapaxes(X_ver,1,2)\n",
    "X_un = np.swapaxes(X_un,1,2)\n",
    "X_test = np.swapaxes(X_test,1,2)\n",
    "print(X_ver.shape , X_un.shape, len(Y_ver))"
   ]
  },
  {
   "cell_type": "code",
   "execution_count": 132,
   "metadata": {},
   "outputs": [],
   "source": [
    "fold = 9"
   ]
  },
  {
   "cell_type": "code",
   "execution_count": 133,
   "metadata": {},
   "outputs": [
    {
     "name": "stdout",
     "output_type": "stream",
     "text": [
      "__________________________________________________________________________________________________\n",
      "Layer (type)                    Output Shape         Param #     Connected to                     \n",
      "==================================================================================================\n",
      "input_8 (InputLayer)            (None, 88, 64, 1)    0                                            \n",
      "__________________________________________________________________________________________________\n",
      "conv2d_57 (Conv2D)              (None, 88, 64, 32)   2848        input_8[0][0]                    \n",
      "__________________________________________________________________________________________________\n",
      "p_re_lu_8 (PReLU)               (None, 88, 64, 32)   180224      conv2d_57[0][0]                  \n",
      "__________________________________________________________________________________________________\n",
      "batch_normalization_92 (BatchNo (None, 88, 64, 32)   128         p_re_lu_8[0][0]                  \n",
      "__________________________________________________________________________________________________\n",
      "dropout_85 (Dropout)            (None, 88, 64, 32)   0           batch_normalization_92[0][0]     \n",
      "__________________________________________________________________________________________________\n",
      "conv2d_58 (Conv2D)              (None, 88, 64, 32)   90144       dropout_85[0][0]                 \n",
      "__________________________________________________________________________________________________\n",
      "leaky_re_lu_50 (LeakyReLU)      (None, 88, 64, 32)   0           conv2d_58[0][0]                  \n",
      "__________________________________________________________________________________________________\n",
      "batch_normalization_93 (BatchNo (None, 88, 64, 32)   128         leaky_re_lu_50[0][0]             \n",
      "__________________________________________________________________________________________________\n",
      "dropout_86 (Dropout)            (None, 88, 64, 32)   0           batch_normalization_93[0][0]     \n",
      "__________________________________________________________________________________________________\n",
      "add_43 (Add)                    (None, 88, 64, 32)   0           dropout_85[0][0]                 \n",
      "                                                                 dropout_86[0][0]                 \n",
      "__________________________________________________________________________________________________\n",
      "conv2d_59 (Conv2D)              (None, 88, 64, 32)   90144       add_43[0][0]                     \n",
      "__________________________________________________________________________________________________\n",
      "leaky_re_lu_51 (LeakyReLU)      (None, 88, 64, 32)   0           conv2d_59[0][0]                  \n",
      "__________________________________________________________________________________________________\n",
      "batch_normalization_94 (BatchNo (None, 88, 64, 32)   128         leaky_re_lu_51[0][0]             \n",
      "__________________________________________________________________________________________________\n",
      "dropout_87 (Dropout)            (None, 88, 64, 32)   0           batch_normalization_94[0][0]     \n",
      "__________________________________________________________________________________________________\n",
      "add_44 (Add)                    (None, 88, 64, 32)   0           dropout_87[0][0]                 \n",
      "                                                                 dropout_86[0][0]                 \n",
      "__________________________________________________________________________________________________\n",
      "conv2d_60 (Conv2D)              (None, 88, 64, 32)   90144       add_44[0][0]                     \n",
      "__________________________________________________________________________________________________\n",
      "leaky_re_lu_52 (LeakyReLU)      (None, 88, 64, 32)   0           conv2d_60[0][0]                  \n",
      "__________________________________________________________________________________________________\n",
      "batch_normalization_95 (BatchNo (None, 88, 64, 32)   128         leaky_re_lu_52[0][0]             \n",
      "__________________________________________________________________________________________________\n",
      "dropout_88 (Dropout)            (None, 88, 64, 32)   0           batch_normalization_95[0][0]     \n",
      "__________________________________________________________________________________________________\n",
      "add_45 (Add)                    (None, 88, 64, 32)   0           dropout_87[0][0]                 \n",
      "                                                                 dropout_88[0][0]                 \n",
      "__________________________________________________________________________________________________\n",
      "conv2d_61 (Conv2D)              (None, 88, 64, 32)   90144       add_45[0][0]                     \n",
      "__________________________________________________________________________________________________\n",
      "leaky_re_lu_53 (LeakyReLU)      (None, 88, 64, 32)   0           conv2d_61[0][0]                  \n",
      "__________________________________________________________________________________________________\n",
      "batch_normalization_96 (BatchNo (None, 88, 64, 32)   128         leaky_re_lu_53[0][0]             \n",
      "__________________________________________________________________________________________________\n",
      "dropout_89 (Dropout)            (None, 88, 64, 32)   0           batch_normalization_96[0][0]     \n",
      "__________________________________________________________________________________________________\n",
      "add_46 (Add)                    (None, 88, 64, 32)   0           dropout_89[0][0]                 \n",
      "                                                                 dropout_88[0][0]                 \n",
      "__________________________________________________________________________________________________\n",
      "conv2d_62 (Conv2D)              (None, 88, 64, 32)   90144       add_46[0][0]                     \n",
      "__________________________________________________________________________________________________\n",
      "leaky_re_lu_54 (LeakyReLU)      (None, 88, 64, 32)   0           conv2d_62[0][0]                  \n",
      "__________________________________________________________________________________________________\n",
      "batch_normalization_97 (BatchNo (None, 88, 64, 32)   128         leaky_re_lu_54[0][0]             \n",
      "__________________________________________________________________________________________________\n",
      "dropout_90 (Dropout)            (None, 88, 64, 32)   0           batch_normalization_97[0][0]     \n",
      "__________________________________________________________________________________________________\n",
      "add_47 (Add)                    (None, 88, 64, 32)   0           dropout_89[0][0]                 \n",
      "                                                                 dropout_90[0][0]                 \n",
      "__________________________________________________________________________________________________\n",
      "conv2d_63 (Conv2D)              (None, 88, 64, 32)   30752       add_47[0][0]                     \n",
      "__________________________________________________________________________________________________\n",
      "batch_normalization_98 (BatchNo (None, 88, 64, 32)   128         conv2d_63[0][0]                  \n",
      "__________________________________________________________________________________________________\n",
      "leaky_re_lu_55 (LeakyReLU)      (None, 88, 64, 32)   0           batch_normalization_98[0][0]     \n",
      "__________________________________________________________________________________________________\n",
      "dropout_91 (Dropout)            (None, 88, 64, 32)   0           leaky_re_lu_55[0][0]             \n",
      "__________________________________________________________________________________________________\n",
      "add_48 (Add)                    (None, 88, 64, 32)   0           dropout_91[0][0]                 \n",
      "                                                                 dropout_90[0][0]                 \n",
      "__________________________________________________________________________________________________\n",
      "conv2d_64 (Conv2D)              (None, 88, 64, 32)   30752       add_48[0][0]                     \n",
      "__________________________________________________________________________________________________\n",
      "batch_normalization_99 (BatchNo (None, 88, 64, 32)   128         conv2d_64[0][0]                  \n",
      "__________________________________________________________________________________________________\n",
      "leaky_re_lu_56 (LeakyReLU)      (None, 88, 64, 32)   0           batch_normalization_99[0][0]     \n",
      "__________________________________________________________________________________________________\n",
      "dropout_92 (Dropout)            (None, 88, 64, 32)   0           leaky_re_lu_56[0][0]             \n",
      "__________________________________________________________________________________________________\n",
      "reshape_8 (Reshape)             (None, 88, 2048)     0           dropout_92[0][0]                 \n",
      "__________________________________________________________________________________________________\n",
      "lstm_8 (LSTM)                   (None, 88, 1024)     12587008    reshape_8[0][0]                  \n",
      "__________________________________________________________________________________________________\n",
      "gru_8 (GRU)                     (None, 512)          2360832     lstm_8[0][0]                     \n",
      "__________________________________________________________________________________________________\n",
      "batch_normalization_100 (BatchN (None, 512)          2048        gru_8[0][0]                      \n",
      "__________________________________________________________________________________________________\n",
      "dense_36 (Dense)                (None, 256)          131328      batch_normalization_100[0][0]    \n",
      "__________________________________________________________________________________________________\n",
      "dropout_93 (Dropout)            (None, 256)          0           dense_36[0][0]                   \n",
      "__________________________________________________________________________________________________\n",
      "concatenate_29 (Concatenate)    (None, 768)          0           dropout_93[0][0]                 \n",
      "                                                                 gru_8[0][0]                      \n",
      "__________________________________________________________________________________________________\n",
      "batch_normalization_101 (BatchN (None, 768)          3072        concatenate_29[0][0]             \n",
      "__________________________________________________________________________________________________\n",
      "dense_37 (Dense)                (None, 256)          196864      batch_normalization_101[0][0]    \n",
      "__________________________________________________________________________________________________\n",
      "dropout_94 (Dropout)            (None, 256)          0           dense_37[0][0]                   \n",
      "__________________________________________________________________________________________________\n",
      "concatenate_30 (Concatenate)    (None, 512)          0           dropout_94[0][0]                 \n",
      "                                                                 dense_36[0][0]                   \n",
      "__________________________________________________________________________________________________\n",
      "batch_normalization_102 (BatchN (None, 512)          2048        concatenate_30[0][0]             \n",
      "__________________________________________________________________________________________________\n",
      "dense_38 (Dense)                (None, 256)          131328      batch_normalization_102[0][0]    \n",
      "__________________________________________________________________________________________________\n",
      "dropout_95 (Dropout)            (None, 256)          0           dense_38[0][0]                   \n",
      "__________________________________________________________________________________________________\n",
      "concatenate_31 (Concatenate)    (None, 512)          0           dropout_95[0][0]                 \n",
      "                                                                 dense_37[0][0]                   \n",
      "__________________________________________________________________________________________________\n",
      "batch_normalization_103 (BatchN (None, 512)          2048        concatenate_31[0][0]             \n",
      "__________________________________________________________________________________________________\n",
      "dense_39 (Dense)                (None, 256)          131328      batch_normalization_103[0][0]    \n",
      "__________________________________________________________________________________________________\n",
      "dropout_96 (Dropout)            (None, 256)          0           dense_39[0][0]                   \n",
      "__________________________________________________________________________________________________\n",
      "concatenate_32 (Concatenate)    (None, 512)          0           dropout_96[0][0]                 \n",
      "                                                                 dense_38[0][0]                   \n",
      "__________________________________________________________________________________________________\n",
      "batch_normalization_104 (BatchN (None, 512)          2048        concatenate_32[0][0]             \n",
      "__________________________________________________________________________________________________\n",
      "dense_40 (Dense)                (None, 64)           32832       batch_normalization_104[0][0]    \n",
      "__________________________________________________________________________________________________\n",
      "clf (Dense)                     (None, 41)           2665        dense_40[0][0]                   \n",
      "==================================================================================================\n",
      "Total params: 16,281,769\n",
      "Trainable params: 16,275,625\n",
      "Non-trainable params: 6,144\n",
      "__________________________________________________________________________________________________\n"
     ]
    }
   ],
   "source": [
    "autoencoder = load_model('model/LGD_ConvLSTM_clf_'+str(fold)+'.h5')\n",
    "autoencoder.summary()\n",
    "#0 => 0.41240\n",
    "#1 =>0.41\n",
    "#2 =>0.51482\n",
    "#3 =>0.45822\n",
    "#4 =>0.49596\n",
    "#5 =>0.50674\n",
    "#6 =>0.33154\n",
    "#7 =>0.54717\n",
    "#8 => 0.37736\n",
    "#9 => 0.40431\n"
   ]
  },
  {
   "cell_type": "code",
   "execution_count": 134,
   "metadata": {
    "scrolled": true
   },
   "outputs": [
    {
     "name": "stdout",
     "output_type": "stream",
     "text": [
      "__________________________________________________________________________________________________\n",
      "Layer (type)                    Output Shape         Param #     Connected to                     \n",
      "==================================================================================================\n",
      "input_8 (InputLayer)            (None, 88, 64, 1)    0                                            \n",
      "__________________________________________________________________________________________________\n",
      "conv2d_57 (Conv2D)              (None, 88, 64, 32)   2848        input_8[0][0]                    \n",
      "__________________________________________________________________________________________________\n",
      "p_re_lu_8 (PReLU)               (None, 88, 64, 32)   180224      conv2d_57[0][0]                  \n",
      "__________________________________________________________________________________________________\n",
      "batch_normalization_92 (BatchNo (None, 88, 64, 32)   128         p_re_lu_8[0][0]                  \n",
      "__________________________________________________________________________________________________\n",
      "dropout_85 (Dropout)            (None, 88, 64, 32)   0           batch_normalization_92[0][0]     \n",
      "__________________________________________________________________________________________________\n",
      "conv2d_58 (Conv2D)              (None, 88, 64, 32)   90144       dropout_85[0][0]                 \n",
      "__________________________________________________________________________________________________\n",
      "leaky_re_lu_50 (LeakyReLU)      (None, 88, 64, 32)   0           conv2d_58[0][0]                  \n",
      "__________________________________________________________________________________________________\n",
      "batch_normalization_93 (BatchNo (None, 88, 64, 32)   128         leaky_re_lu_50[0][0]             \n",
      "__________________________________________________________________________________________________\n",
      "dropout_86 (Dropout)            (None, 88, 64, 32)   0           batch_normalization_93[0][0]     \n",
      "__________________________________________________________________________________________________\n",
      "add_43 (Add)                    (None, 88, 64, 32)   0           dropout_85[0][0]                 \n",
      "                                                                 dropout_86[0][0]                 \n",
      "__________________________________________________________________________________________________\n",
      "conv2d_59 (Conv2D)              (None, 88, 64, 32)   90144       add_43[0][0]                     \n",
      "__________________________________________________________________________________________________\n",
      "leaky_re_lu_51 (LeakyReLU)      (None, 88, 64, 32)   0           conv2d_59[0][0]                  \n",
      "__________________________________________________________________________________________________\n",
      "batch_normalization_94 (BatchNo (None, 88, 64, 32)   128         leaky_re_lu_51[0][0]             \n",
      "__________________________________________________________________________________________________\n",
      "dropout_87 (Dropout)            (None, 88, 64, 32)   0           batch_normalization_94[0][0]     \n",
      "__________________________________________________________________________________________________\n",
      "add_44 (Add)                    (None, 88, 64, 32)   0           dropout_87[0][0]                 \n",
      "                                                                 dropout_86[0][0]                 \n",
      "__________________________________________________________________________________________________\n",
      "conv2d_60 (Conv2D)              (None, 88, 64, 32)   90144       add_44[0][0]                     \n",
      "__________________________________________________________________________________________________\n",
      "leaky_re_lu_52 (LeakyReLU)      (None, 88, 64, 32)   0           conv2d_60[0][0]                  \n",
      "__________________________________________________________________________________________________\n",
      "batch_normalization_95 (BatchNo (None, 88, 64, 32)   128         leaky_re_lu_52[0][0]             \n",
      "__________________________________________________________________________________________________\n",
      "dropout_88 (Dropout)            (None, 88, 64, 32)   0           batch_normalization_95[0][0]     \n",
      "__________________________________________________________________________________________________\n",
      "add_45 (Add)                    (None, 88, 64, 32)   0           dropout_87[0][0]                 \n",
      "                                                                 dropout_88[0][0]                 \n",
      "__________________________________________________________________________________________________\n",
      "conv2d_61 (Conv2D)              (None, 88, 64, 32)   90144       add_45[0][0]                     \n",
      "__________________________________________________________________________________________________\n",
      "leaky_re_lu_53 (LeakyReLU)      (None, 88, 64, 32)   0           conv2d_61[0][0]                  \n",
      "__________________________________________________________________________________________________\n",
      "batch_normalization_96 (BatchNo (None, 88, 64, 32)   128         leaky_re_lu_53[0][0]             \n",
      "__________________________________________________________________________________________________\n",
      "dropout_89 (Dropout)            (None, 88, 64, 32)   0           batch_normalization_96[0][0]     \n",
      "__________________________________________________________________________________________________\n",
      "add_46 (Add)                    (None, 88, 64, 32)   0           dropout_89[0][0]                 \n",
      "                                                                 dropout_88[0][0]                 \n",
      "__________________________________________________________________________________________________\n",
      "conv2d_62 (Conv2D)              (None, 88, 64, 32)   90144       add_46[0][0]                     \n",
      "__________________________________________________________________________________________________\n",
      "leaky_re_lu_54 (LeakyReLU)      (None, 88, 64, 32)   0           conv2d_62[0][0]                  \n",
      "__________________________________________________________________________________________________\n",
      "batch_normalization_97 (BatchNo (None, 88, 64, 32)   128         leaky_re_lu_54[0][0]             \n",
      "__________________________________________________________________________________________________\n",
      "dropout_90 (Dropout)            (None, 88, 64, 32)   0           batch_normalization_97[0][0]     \n",
      "__________________________________________________________________________________________________\n",
      "add_47 (Add)                    (None, 88, 64, 32)   0           dropout_89[0][0]                 \n",
      "                                                                 dropout_90[0][0]                 \n",
      "__________________________________________________________________________________________________\n",
      "conv2d_63 (Conv2D)              (None, 88, 64, 32)   30752       add_47[0][0]                     \n",
      "__________________________________________________________________________________________________\n",
      "batch_normalization_98 (BatchNo (None, 88, 64, 32)   128         conv2d_63[0][0]                  \n",
      "__________________________________________________________________________________________________\n",
      "leaky_re_lu_55 (LeakyReLU)      (None, 88, 64, 32)   0           batch_normalization_98[0][0]     \n",
      "__________________________________________________________________________________________________\n",
      "dropout_91 (Dropout)            (None, 88, 64, 32)   0           leaky_re_lu_55[0][0]             \n",
      "__________________________________________________________________________________________________\n",
      "add_48 (Add)                    (None, 88, 64, 32)   0           dropout_91[0][0]                 \n",
      "                                                                 dropout_90[0][0]                 \n",
      "__________________________________________________________________________________________________\n",
      "conv2d_64 (Conv2D)              (None, 88, 64, 32)   30752       add_48[0][0]                     \n",
      "__________________________________________________________________________________________________\n",
      "batch_normalization_99 (BatchNo (None, 88, 64, 32)   128         conv2d_64[0][0]                  \n",
      "__________________________________________________________________________________________________\n",
      "leaky_re_lu_56 (LeakyReLU)      (None, 88, 64, 32)   0           batch_normalization_99[0][0]     \n",
      "__________________________________________________________________________________________________\n",
      "dropout_92 (Dropout)            (None, 88, 64, 32)   0           leaky_re_lu_56[0][0]             \n",
      "__________________________________________________________________________________________________\n",
      "reshape_8 (Reshape)             (None, 88, 2048)     0           dropout_92[0][0]                 \n",
      "__________________________________________________________________________________________________\n",
      "lstm_8 (LSTM)                   (None, 88, 1024)     12587008    reshape_8[0][0]                  \n",
      "__________________________________________________________________________________________________\n",
      "gru_8 (GRU)                     (None, 512)          2360832     lstm_8[0][0]                     \n",
      "__________________________________________________________________________________________________\n",
      "batch_normalization_100 (BatchN (None, 512)          2048        gru_8[0][0]                      \n",
      "__________________________________________________________________________________________________\n",
      "dense_36 (Dense)                (None, 256)          131328      batch_normalization_100[0][0]    \n",
      "__________________________________________________________________________________________________\n",
      "dropout_93 (Dropout)            (None, 256)          0           dense_36[0][0]                   \n",
      "__________________________________________________________________________________________________\n",
      "concatenate_29 (Concatenate)    (None, 768)          0           dropout_93[0][0]                 \n",
      "                                                                 gru_8[0][0]                      \n",
      "__________________________________________________________________________________________________\n",
      "batch_normalization_101 (BatchN (None, 768)          3072        concatenate_29[0][0]             \n",
      "__________________________________________________________________________________________________\n",
      "dense_37 (Dense)                (None, 256)          196864      batch_normalization_101[0][0]    \n",
      "__________________________________________________________________________________________________\n",
      "dropout_94 (Dropout)            (None, 256)          0           dense_37[0][0]                   \n",
      "__________________________________________________________________________________________________\n",
      "concatenate_30 (Concatenate)    (None, 512)          0           dropout_94[0][0]                 \n",
      "                                                                 dense_36[0][0]                   \n",
      "__________________________________________________________________________________________________\n",
      "batch_normalization_102 (BatchN (None, 512)          2048        concatenate_30[0][0]             \n",
      "__________________________________________________________________________________________________\n",
      "dense_38 (Dense)                (None, 256)          131328      batch_normalization_102[0][0]    \n",
      "__________________________________________________________________________________________________\n",
      "dropout_95 (Dropout)            (None, 256)          0           dense_38[0][0]                   \n",
      "__________________________________________________________________________________________________\n",
      "concatenate_31 (Concatenate)    (None, 512)          0           dropout_95[0][0]                 \n",
      "                                                                 dense_37[0][0]                   \n",
      "__________________________________________________________________________________________________\n",
      "batch_normalization_103 (BatchN (None, 512)          2048        concatenate_31[0][0]             \n",
      "__________________________________________________________________________________________________\n",
      "dense_39 (Dense)                (None, 256)          131328      batch_normalization_103[0][0]    \n",
      "__________________________________________________________________________________________________\n",
      "dropout_96 (Dropout)            (None, 256)          0           dense_39[0][0]                   \n",
      "__________________________________________________________________________________________________\n",
      "concatenate_32 (Concatenate)    (None, 512)          0           dropout_96[0][0]                 \n",
      "                                                                 dense_38[0][0]                   \n",
      "__________________________________________________________________________________________________\n",
      "batch_normalization_104 (BatchN (None, 512)          2048        concatenate_32[0][0]             \n",
      "__________________________________________________________________________________________________\n",
      "dense_40 (Dense)                (None, 64)           32832       batch_normalization_104[0][0]    \n",
      "__________________________________________________________________________________________________\n",
      "clf (Dense)                     (None, 41)           2665        dense_40[0][0]                   \n",
      "==================================================================================================\n",
      "Total params: 16,281,769\n",
      "Trainable params: 16,275,625\n",
      "Non-trainable params: 6,144\n",
      "__________________________________________________________________________________________________\n"
     ]
    }
   ],
   "source": [
    "# 41=>GRU output=>512\n",
    "# 43 => first layer dense=>256\n",
    "#45=> first concatensate dense=>768\n",
    "#47=> second dense layer=>256 #6494 6907\n",
    "#59=>最後一曾dense layer=>64 #36272 47066\n",
    "#60=>output layer=>41 #94461 115512\n",
    "model = Model(inputs = autoencoder.layers[0].input, outputs = autoencoder.layers[60].output)\n",
    "model.summary()\n"
   ]
  },
  {
   "cell_type": "code",
   "execution_count": 135,
   "metadata": {
    "scrolled": true
   },
   "outputs": [
    {
     "name": "stdout",
     "output_type": "stream",
     "text": [
      "(3710, 41) (5763, 41) (9400, 41)\n"
     ]
    }
   ],
   "source": [
    "X_ver_dense = model.predict(X_ver)\n",
    "X_un_dense = model.predict(X_un)\n",
    "X_test_dense = model.predict(X_test)\n",
    "print(X_ver_dense.shape , X_un_dense.shape , X_test_dense.shape)"
   ]
  },
  {
   "cell_type": "code",
   "execution_count": 136,
   "metadata": {},
   "outputs": [
    {
     "data": {
      "text/plain": [
       "LabelSpreading(alpha=0.22502332191013757, gamma=20, kernel='knn', max_iter=32,\n",
       "        n_jobs=-1, n_neighbors=8, tol=0.0011996989248298049)"
      ]
     },
     "execution_count": 136,
     "metadata": {},
     "output_type": "execute_result"
    }
   ],
   "source": [
    "#kernel=’rbf’, gamma=20, n_neighbors=7, alpha=0.2, max_iter=30, tol=0.001\n",
    "#5~9\n",
    "lp_model = LabelSpreading(kernel='knn',n_jobs=-1,n_neighbors=int(3+6*random.random()),alpha=0.01+0.24*random.random(),\n",
    "                          max_iter=int(30+21*random.random()),tol = 0.0001+0.0015*random.random())#,n_neighbors=3,alpha=0.05)#, max_iter=50, gamma=10, alpha=0.1,tol=0.0001)\n",
    "#0~4\n",
    "# lp_model = LabelSpreading(kernel='rbf',n_jobs=-1, gamma=5+25*random.random(), max_iter=int(30+21*random.random())\n",
    "#                           , alpha=0.01+0.24*random.random(),tol = 0.0001+0.0015*random.random())\n",
    "# lp_model = LabelSpreading(kernel='rbf',n_jobs=-1)\n",
    "\n",
    "lp_model.fit(X_ver_dense,Y_ver)"
   ]
  },
  {
   "cell_type": "code",
   "execution_count": 137,
   "metadata": {},
   "outputs": [
    {
     "name": "stdout",
     "output_type": "stream",
     "text": [
      "[ 3 32  4 ... 30 18 18] [32 33  6 ... 39  0  6]\n",
      "112499 151154\n"
     ]
    }
   ],
   "source": [
    "un_ans = lp_model.predict(X_un_dense)\n",
    "test_ans = lp_model.predict(X_test_dense)\n",
    "print(un_ans, test_ans)\n",
    "print(sum(un_ans),sum(test_ans)) #94461 115512"
   ]
  },
  {
   "cell_type": "markdown",
   "metadata": {},
   "source": [
    "### Save"
   ]
  },
  {
   "cell_type": "code",
   "execution_count": 138,
   "metadata": {},
   "outputs": [],
   "source": [
    "np.save('feature/fbank4/semi/X_un_dense'+str(fold)+'.npy',X_un_dense)\n",
    "np.save('feature/fbank4/semi/Y_un_dense'+str(fold)+'.npy',un_ans)\n",
    "np.save('feature/fbank4/semi/X_test_dense'+str(fold)+'.npy',X_test_dense)\n",
    "np.save('feature/fbank4/semi/Y_test_dense'+str(fold)+'.npy',test_ans)"
   ]
  },
  {
   "cell_type": "code",
   "execution_count": 140,
   "metadata": {},
   "outputs": [],
   "source": [
    "np.save('feature/fbank4/semi/X_un.npy',X_un)\n",
    "np.save('feature/fbank4/semi/X_test.npy',X_test)"
   ]
  },
  {
   "cell_type": "markdown",
   "metadata": {},
   "source": [
    "## Ens Verified\n",
    "### step2\n",
    "* threshold = 0.5 "
   ]
  },
  {
   "cell_type": "code",
   "execution_count": 43,
   "metadata": {},
   "outputs": [],
   "source": [
    "feature_type='mfcc7'"
   ]
  },
  {
   "cell_type": "code",
   "execution_count": 47,
   "metadata": {},
   "outputs": [
    {
     "data": {
      "text/plain": [
       "9400"
      ]
     },
     "execution_count": 47,
     "metadata": {},
     "output_type": "execute_result"
    }
   ],
   "source": [
    "#encoder ens\n",
    "df_un_ans = pd.DataFrame()\n",
    "for fold in range(10):\n",
    "#     un_ans = np.load('feature/fbank4/semi/Y_un_dense'+str(fold)+'.npy') #unverified data\n",
    "    un_ans = np.load('feature/fbank4/semi/Y_test_dense'+str(fold)+'.npy') #testing data\n",
    "    df = pd.DataFrame(un_ans).T\n",
    "    df_un_ans = df_un_ans.append(df)\n",
    "col_list = []\n",
    "for col_num in range(len(df_un_ans.columns)):\n",
    "    counter = df_un_ans[col_num].value_counts()\n",
    "    col_list.append(dict(counter))\n",
    "len(col_list)    \n",
    "    "
   ]
  },
  {
   "cell_type": "code",
   "execution_count": 48,
   "metadata": {},
   "outputs": [
    {
     "name": "stdout",
     "output_type": "stream",
     "text": [
      "41\n"
     ]
    }
   ],
   "source": [
    "take_list=[]\n",
    "take_label=[]\n",
    "for i,stats in enumerate(col_list):\n",
    "    if max(stats.values()) >=10:\n",
    "        take_list.append(i)\n",
    "        ens_label = max(stats.keys(), key=(lambda k: stats[k]))\n",
    "        take_label.append(ens_label)\n",
    "print(len(take_list))"
   ]
  },
  {
   "cell_type": "markdown",
   "metadata": {},
   "source": [
    "### SAVE\n",
    "\n"
   ]
  },
  {
   "cell_type": "code",
   "execution_count": 46,
   "metadata": {},
   "outputs": [
    {
     "name": "stdout",
     "output_type": "stream",
     "text": [
      "(38,)\n"
     ]
    }
   ],
   "source": [
    "print(np.array(take_label).shape)\n",
    "# X_un_ver = X_un[take_list]\n",
    "Y_un_ver = np.array(take_label)\n",
    "# np.save('feature/mfcc6/semi/fbank4/X_un_ver.npy',X_un_ver)\n",
    "pickle.dump(take_list,open('feature/'+feature_type+'/semi/fbank4/X_un_ver_list.pkl','wb'))\n",
    "np.save('feature/'+feature_type+'/semi/fbank4/Y_un_ver.npy',Y_un_ver)"
   ]
  },
  {
   "cell_type": "code",
   "execution_count": 49,
   "metadata": {},
   "outputs": [
    {
     "name": "stdout",
     "output_type": "stream",
     "text": [
      "(41,)\n"
     ]
    }
   ],
   "source": [
    "print( np.array(take_label).shape)\n",
    "# X_test_ver = X_test[take_list]\n",
    "Y_test_ver = np.array(take_label)\n",
    "# np.save('feature/mfcc6/semi/fbank4/X_test_ver.npy',X_test_ver)\n",
    "pickle.dump(take_list,open('feature/'+feature_type+'/semi/fbank4/X_test_ver_list.pkl','wb'))\n",
    "np.save('feature/'+feature_type+'/semi/fbank4/Y_test_ver.npy',Y_test_ver)"
   ]
  },
  {
   "cell_type": "code",
   "execution_count": 13,
   "metadata": {},
   "outputs": [
    {
     "data": {
      "text/plain": [
       "(38,)"
      ]
     },
     "execution_count": 13,
     "metadata": {},
     "output_type": "execute_result"
    }
   ],
   "source": [
    "Y_un_ver.shape"
   ]
  },
  {
   "cell_type": "code",
   "execution_count": null,
   "metadata": {},
   "outputs": [],
   "source": []
  },
  {
   "cell_type": "code",
   "execution_count": null,
   "metadata": {},
   "outputs": [],
   "source": []
  },
  {
   "cell_type": "code",
   "execution_count": null,
   "metadata": {},
   "outputs": [],
   "source": []
  },
  {
   "cell_type": "code",
   "execution_count": null,
   "metadata": {},
   "outputs": [],
   "source": []
  },
  {
   "cell_type": "markdown",
   "metadata": {},
   "source": [
    "***"
   ]
  },
  {
   "cell_type": "code",
   "execution_count": 206,
   "metadata": {},
   "outputs": [
    {
     "name": "stdout",
     "output_type": "stream",
     "text": [
      "5\n"
     ]
    },
    {
     "data": {
      "text/plain": [
       "32"
      ]
     },
     "execution_count": 206,
     "metadata": {},
     "output_type": "execute_result"
    }
   ],
   "source": [
    "stats = col_list[1]\n",
    "print(max(stats.values()))\n",
    "max(stats.keys(), key=(lambda k: stats[k]))"
   ]
  },
  {
   "cell_type": "code",
   "execution_count": 210,
   "metadata": {},
   "outputs": [
    {
     "data": {
      "text/plain": [
       "((4, 88, 64, 1), (5763, 88, 64, 1))"
      ]
     },
     "execution_count": 210,
     "metadata": {},
     "output_type": "execute_result"
    }
   ],
   "source": [
    "X_un[[2,3,4,5]].shape , X_un.shape"
   ]
  },
  {
   "cell_type": "code",
   "execution_count": 160,
   "metadata": {},
   "outputs": [],
   "source": [
    "un_ans = np.load('feature/fbank4/semi/Y_un_dense2.npy')"
   ]
  },
  {
   "cell_type": "code",
   "execution_count": 161,
   "metadata": {},
   "outputs": [
    {
     "data": {
      "text/html": [
       "<div>\n",
       "<style scoped>\n",
       "    .dataframe tbody tr th:only-of-type {\n",
       "        vertical-align: middle;\n",
       "    }\n",
       "\n",
       "    .dataframe tbody tr th {\n",
       "        vertical-align: top;\n",
       "    }\n",
       "\n",
       "    .dataframe thead th {\n",
       "        text-align: right;\n",
       "    }\n",
       "</style>\n",
       "<table border=\"1\" class=\"dataframe\">\n",
       "  <thead>\n",
       "    <tr style=\"text-align: right;\">\n",
       "      <th></th>\n",
       "      <th>0_x</th>\n",
       "      <th>1_x</th>\n",
       "      <th>2_x</th>\n",
       "      <th>3_x</th>\n",
       "      <th>4_x</th>\n",
       "      <th>5_x</th>\n",
       "      <th>6_x</th>\n",
       "      <th>7_x</th>\n",
       "      <th>8_x</th>\n",
       "      <th>9_x</th>\n",
       "      <th>...</th>\n",
       "      <th>5753_y</th>\n",
       "      <th>5754_y</th>\n",
       "      <th>5755_y</th>\n",
       "      <th>5756_y</th>\n",
       "      <th>5757_y</th>\n",
       "      <th>5758_y</th>\n",
       "      <th>5759_y</th>\n",
       "      <th>5760_y</th>\n",
       "      <th>5761_y</th>\n",
       "      <th>5762_y</th>\n",
       "    </tr>\n",
       "  </thead>\n",
       "  <tbody>\n",
       "    <tr>\n",
       "      <th>0</th>\n",
       "      <td>3</td>\n",
       "      <td>32</td>\n",
       "      <td>4</td>\n",
       "      <td>16</td>\n",
       "      <td>32</td>\n",
       "      <td>32</td>\n",
       "      <td>14</td>\n",
       "      <td>9</td>\n",
       "      <td>17</td>\n",
       "      <td>22</td>\n",
       "      <td>...</td>\n",
       "      <td>4</td>\n",
       "      <td>32</td>\n",
       "      <td>22</td>\n",
       "      <td>6</td>\n",
       "      <td>19</td>\n",
       "      <td>6</td>\n",
       "      <td>6</td>\n",
       "      <td>6</td>\n",
       "      <td>1</td>\n",
       "      <td>1</td>\n",
       "    </tr>\n",
       "  </tbody>\n",
       "</table>\n",
       "<p>1 rows × 11526 columns</p>\n",
       "</div>"
      ],
      "text/plain": [
       "   0_x  1_x  2_x  3_x  4_x  5_x  6_x  7_x  8_x  9_x   ...    5753_y  5754_y  \\\n",
       "0    3   32    4   16   32   32   14    9   17   22   ...         4      32   \n",
       "\n",
       "   5755_y  5756_y  5757_y  5758_y  5759_y  5760_y  5761_y  5762_y  \n",
       "0      22       6      19       6       6       6       1       1  \n",
       "\n",
       "[1 rows x 11526 columns]"
      ]
     },
     "execution_count": 161,
     "metadata": {},
     "output_type": "execute_result"
    }
   ],
   "source": [
    "un_ans.shape\n",
    "# df = pd.DataFrame(un_ans).T\n",
    "df2 = pd.DataFrame(un_ans).T\n",
    "df = pd.merge(df,df2,how='inner',left_index=True,right_index=True)\n",
    "df.ap"
   ]
  },
  {
   "cell_type": "code",
   "execution_count": 195,
   "metadata": {
    "scrolled": true
   },
   "outputs": [
    {
     "data": {
      "text/plain": [
       "5763"
      ]
     },
     "execution_count": 195,
     "metadata": {},
     "output_type": "execute_result"
    }
   ],
   "source": []
  },
  {
   "cell_type": "code",
   "execution_count": 178,
   "metadata": {},
   "outputs": [],
   "source": [
    "df2 = df2.append(df2)\n",
    "kk = df2[1].value_counts()"
   ]
  },
  {
   "cell_type": "code",
   "execution_count": 181,
   "metadata": {},
   "outputs": [
    {
     "data": {
      "text/plain": [
       "dict_values([16])"
      ]
     },
     "execution_count": 181,
     "metadata": {},
     "output_type": "execute_result"
    }
   ],
   "source": [
    "dict(kk).values()"
   ]
  },
  {
   "cell_type": "code",
   "execution_count": 159,
   "metadata": {
    "scrolled": true
   },
   "outputs": [
    {
     "ename": "AttributeError",
     "evalue": "Can only use .str accessor with string values, which use np.object_ dtype in pandas",
     "output_type": "error",
     "traceback": [
      "\u001b[0;31m---------------------------------------------------------------------------\u001b[0m",
      "\u001b[0;31mAttributeError\u001b[0m                            Traceback (most recent call last)",
      "\u001b[0;32m<ipython-input-159-6702ca95bc31>\u001b[0m in \u001b[0;36m<module>\u001b[0;34m()\u001b[0m\n\u001b[0;32m----> 1\u001b[0;31m \u001b[0mdf\u001b[0m\u001b[0;34m[\u001b[0m\u001b[0;36m0\u001b[0m\u001b[0;34m]\u001b[0m\u001b[0;34m.\u001b[0m\u001b[0mstr\u001b[0m\u001b[0;34m.\u001b[0m\u001b[0mapply\u001b[0m\u001b[0;34m(\u001b[0m\u001b[0;32mlambda\u001b[0m \u001b[0mx\u001b[0m\u001b[0;34m:\u001b[0m \u001b[0mpd\u001b[0m\u001b[0;34m.\u001b[0m\u001b[0mSeries\u001b[0m\u001b[0;34m(\u001b[0m\u001b[0mCounter\u001b[0m\u001b[0;34m(\u001b[0m\u001b[0mx\u001b[0m\u001b[0;34m)\u001b[0m\u001b[0;34m)\u001b[0m\u001b[0;34m)\u001b[0m\u001b[0;34m\u001b[0m\u001b[0m\n\u001b[0m",
      "\u001b[0;32m~/anaconda3/lib/python3.6/site-packages/pandas/core/generic.py\u001b[0m in \u001b[0;36m__getattr__\u001b[0;34m(self, name)\u001b[0m\n\u001b[1;32m   4366\u001b[0m         if (name in self._internal_names_set or name in self._metadata or\n\u001b[1;32m   4367\u001b[0m                 name in self._accessors):\n\u001b[0;32m-> 4368\u001b[0;31m             \u001b[0;32mreturn\u001b[0m \u001b[0mobject\u001b[0m\u001b[0;34m.\u001b[0m\u001b[0m__getattribute__\u001b[0m\u001b[0;34m(\u001b[0m\u001b[0mself\u001b[0m\u001b[0;34m,\u001b[0m \u001b[0mname\u001b[0m\u001b[0;34m)\u001b[0m\u001b[0;34m\u001b[0m\u001b[0m\n\u001b[0m\u001b[1;32m   4369\u001b[0m         \u001b[0;32melse\u001b[0m\u001b[0;34m:\u001b[0m\u001b[0;34m\u001b[0m\u001b[0m\n\u001b[1;32m   4370\u001b[0m             \u001b[0;32mif\u001b[0m \u001b[0mself\u001b[0m\u001b[0;34m.\u001b[0m\u001b[0m_info_axis\u001b[0m\u001b[0;34m.\u001b[0m\u001b[0m_can_hold_identifiers_and_holds_name\u001b[0m\u001b[0;34m(\u001b[0m\u001b[0mname\u001b[0m\u001b[0;34m)\u001b[0m\u001b[0;34m:\u001b[0m\u001b[0;34m\u001b[0m\u001b[0m\n",
      "\u001b[0;32m~/anaconda3/lib/python3.6/site-packages/pandas/core/accessor.py\u001b[0m in \u001b[0;36m__get__\u001b[0;34m(self, obj, cls)\u001b[0m\n\u001b[1;32m    131\u001b[0m             \u001b[0;31m# we're accessing the attribute of the class, i.e., Dataset.geo\u001b[0m\u001b[0;34m\u001b[0m\u001b[0;34m\u001b[0m\u001b[0m\n\u001b[1;32m    132\u001b[0m             \u001b[0;32mreturn\u001b[0m \u001b[0mself\u001b[0m\u001b[0;34m.\u001b[0m\u001b[0m_accessor\u001b[0m\u001b[0;34m\u001b[0m\u001b[0m\n\u001b[0;32m--> 133\u001b[0;31m         \u001b[0maccessor_obj\u001b[0m \u001b[0;34m=\u001b[0m \u001b[0mself\u001b[0m\u001b[0;34m.\u001b[0m\u001b[0m_accessor\u001b[0m\u001b[0;34m(\u001b[0m\u001b[0mobj\u001b[0m\u001b[0;34m)\u001b[0m\u001b[0;34m\u001b[0m\u001b[0m\n\u001b[0m\u001b[1;32m    134\u001b[0m         \u001b[0;31m# Replace the property with the accessor object. Inspired by:\u001b[0m\u001b[0;34m\u001b[0m\u001b[0;34m\u001b[0m\u001b[0m\n\u001b[1;32m    135\u001b[0m         \u001b[0;31m# http://www.pydanny.com/cached-property.html\u001b[0m\u001b[0;34m\u001b[0m\u001b[0;34m\u001b[0m\u001b[0m\n",
      "\u001b[0;32m~/anaconda3/lib/python3.6/site-packages/pandas/core/strings.py\u001b[0m in \u001b[0;36m__init__\u001b[0;34m(self, data)\u001b[0m\n\u001b[1;32m   1893\u001b[0m \u001b[0;34m\u001b[0m\u001b[0m\n\u001b[1;32m   1894\u001b[0m     \u001b[0;32mdef\u001b[0m \u001b[0m__init__\u001b[0m\u001b[0;34m(\u001b[0m\u001b[0mself\u001b[0m\u001b[0;34m,\u001b[0m \u001b[0mdata\u001b[0m\u001b[0;34m)\u001b[0m\u001b[0;34m:\u001b[0m\u001b[0;34m\u001b[0m\u001b[0m\n\u001b[0;32m-> 1895\u001b[0;31m         \u001b[0mself\u001b[0m\u001b[0;34m.\u001b[0m\u001b[0m_validate\u001b[0m\u001b[0;34m(\u001b[0m\u001b[0mdata\u001b[0m\u001b[0;34m)\u001b[0m\u001b[0;34m\u001b[0m\u001b[0m\n\u001b[0m\u001b[1;32m   1896\u001b[0m         \u001b[0mself\u001b[0m\u001b[0;34m.\u001b[0m\u001b[0m_is_categorical\u001b[0m \u001b[0;34m=\u001b[0m \u001b[0mis_categorical_dtype\u001b[0m\u001b[0;34m(\u001b[0m\u001b[0mdata\u001b[0m\u001b[0;34m)\u001b[0m\u001b[0;34m\u001b[0m\u001b[0m\n\u001b[1;32m   1897\u001b[0m \u001b[0;34m\u001b[0m\u001b[0m\n",
      "\u001b[0;32m~/anaconda3/lib/python3.6/site-packages/pandas/core/strings.py\u001b[0m in \u001b[0;36m_validate\u001b[0;34m(data)\u001b[0m\n\u001b[1;32m   1915\u001b[0m             \u001b[0;31m# (instead of test for object dtype), but that isn't practical for\u001b[0m\u001b[0;34m\u001b[0m\u001b[0;34m\u001b[0m\u001b[0m\n\u001b[1;32m   1916\u001b[0m             \u001b[0;31m# performance reasons until we have a str dtype (GH 9343)\u001b[0m\u001b[0;34m\u001b[0m\u001b[0;34m\u001b[0m\u001b[0m\n\u001b[0;32m-> 1917\u001b[0;31m             raise AttributeError(\"Can only use .str accessor with string \"\n\u001b[0m\u001b[1;32m   1918\u001b[0m                                  \u001b[0;34m\"values, which use np.object_ dtype in \"\u001b[0m\u001b[0;34m\u001b[0m\u001b[0m\n\u001b[1;32m   1919\u001b[0m                                  \"pandas\")\n",
      "\u001b[0;31mAttributeError\u001b[0m: Can only use .str accessor with string values, which use np.object_ dtype in pandas"
     ]
    }
   ],
   "source": [
    "df[0].str.apply(lambda x: pd.Series(Counter(x)))"
   ]
  }
 ],
 "metadata": {
  "kernelspec": {
   "display_name": "Python [conda env:anaconda3]",
   "language": "python",
   "name": "conda-env-anaconda3-py"
  },
  "language_info": {
   "codemirror_mode": {
    "name": "ipython",
    "version": 3
   },
   "file_extension": ".py",
   "mimetype": "text/x-python",
   "name": "python",
   "nbconvert_exporter": "python",
   "pygments_lexer": "ipython3",
   "version": "3.6.5"
  }
 },
 "nbformat": 4,
 "nbformat_minor": 2
}

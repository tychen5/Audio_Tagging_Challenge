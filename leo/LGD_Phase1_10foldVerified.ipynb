{
 "cells": [
  {
   "cell_type": "code",
   "execution_count": 5,
   "metadata": {},
   "outputs": [],
   "source": [
    "import numpy as np\n",
    "from random import shuffle\n",
    "from math import log, floor\n",
    "import pandas as pd\n",
    "import tensorflow as tf\n",
    "import tensorboard as tb\n",
    "from keras import backend as K\n",
    "from keras.models import *\n",
    "from keras.layers import *\n",
    "from keras.activations import *\n",
    "from keras.callbacks import *\n",
    "from keras.utils import *\n",
    "from keras.layers.advanced_activations import *\n",
    "# from keras.layers.advanced_activations import *\n",
    "from keras import *\n",
    "from keras.engine.topology import *\n",
    "from keras.optimizers import *\n",
    "import keras\n",
    "# import pandas as pd\n",
    "# import numpy as np\n",
    "# import sklearn\n",
    "import pickle\n",
    "from keras.applications import *\n",
    "from keras.preprocessing.image import *\n",
    "# importing dependencies\n",
    "import pandas as pd # data frame\n",
    "import numpy as np # matrix math\n",
    "from scipy.io import wavfile # reading the wavfile\n",
    "from sklearn.utils import shuffle # shuffling of data\n",
    "from random import sample # random selection\n",
    "from tqdm import tqdm # progress bar\n",
    "import matplotlib.pyplot as plt # to view graphs\n",
    "import wave\n",
    "from math import log, floor\n",
    "# audio processing\n",
    "from scipy import signal # audio processing\n",
    "from scipy.fftpack import dct\n",
    "import librosa # library for audio processing\n",
    "import numpy as np\n",
    "import pandas as pd\n",
    "from sklearn.decomposition import *\n",
    "from sklearn.cluster import KMeans\n",
    "import sys, os\n",
    "import random,math\n",
    "from tqdm import tqdm ##\n",
    "from xgboost.sklearn import XGBClassifier\n",
    "from sklearn.utils import shuffle # shuffling of data\n",
    "from random import sample # random selection\n",
    "from tqdm import tqdm # progress bar\n",
    "# audio processing\n",
    "from scipy import signal # audio processing\n",
    "from scipy.fftpack import dct\n",
    "import librosa # library for audio processing\n",
    "import xgboost as xgb\n",
    "import lightgbm as lgb\n",
    "import catboost as ctb\n",
    "from keras.utils import *\n",
    "from sklearn.ensemble import *\n",
    "import pickle\n",
    "from bayes_opt import BayesianOptimization\n",
    "from logHandler import Logger\n",
    "from utils import readCSV, getPath, writePickle,readPickle\n",
    "from keras.regularizers import l2\n",
    "from keras.callbacks import History ,ModelCheckpoint, EarlyStopping"
   ]
  },
  {
   "cell_type": "code",
   "execution_count": 6,
   "metadata": {
    "scrolled": true
   },
   "outputs": [
    {
     "name": "stdout",
     "output_type": "stream",
     "text": [
      "['001ca53d.wav' '0033e230.wav' '00353774.wav' ... 'ffd6b26c.wav'\n",
      " 'ffda1d2b.wav' 'fff81f55.wav']\n"
     ]
    },
    {
     "name": "stderr",
     "output_type": "stream",
     "text": [
      "\r",
      "  0%|          | 0/10 [00:00<?, ?it/s]"
     ]
    },
    {
     "name": "stdout",
     "output_type": "stream",
     "text": [
      "Saving fold 1\n",
      "X.shape: (371, 128, 1034, 1)\n",
      "y.shape: (371, 41)\n",
      "fname.shape: (371,)\n"
     ]
    },
    {
     "name": "stderr",
     "output_type": "stream",
     "text": [
      "\r",
      " 10%|█         | 1/10 [00:04<00:44,  4.93s/it]"
     ]
    },
    {
     "name": "stdout",
     "output_type": "stream",
     "text": [
      "Saving fold 2\n",
      "X.shape: (371, 128, 1034, 1)\n",
      "y.shape: (371, 41)\n",
      "fname.shape: (371,)\n"
     ]
    },
    {
     "name": "stderr",
     "output_type": "stream",
     "text": [
      "\r",
      " 20%|██        | 2/10 [00:09<00:39,  4.93s/it]"
     ]
    },
    {
     "name": "stdout",
     "output_type": "stream",
     "text": [
      "Saving fold 3\n",
      "X.shape: (371, 128, 1034, 1)\n",
      "y.shape: (371, 41)\n",
      "fname.shape: (371,)\n"
     ]
    },
    {
     "name": "stderr",
     "output_type": "stream",
     "text": [
      "\r",
      " 30%|███       | 3/10 [00:14<00:34,  4.93s/it]"
     ]
    },
    {
     "name": "stdout",
     "output_type": "stream",
     "text": [
      "Saving fold 4\n",
      "X.shape: (371, 128, 1034, 1)\n",
      "y.shape: (371, 41)\n",
      "fname.shape: (371,)\n"
     ]
    },
    {
     "name": "stderr",
     "output_type": "stream",
     "text": [
      "\r",
      " 40%|████      | 4/10 [00:19<00:29,  4.93s/it]"
     ]
    },
    {
     "name": "stdout",
     "output_type": "stream",
     "text": [
      "Saving fold 5\n",
      "X.shape: (371, 128, 1034, 1)\n",
      "y.shape: (371, 41)\n",
      "fname.shape: (371,)\n"
     ]
    },
    {
     "name": "stderr",
     "output_type": "stream",
     "text": [
      "\r",
      " 50%|█████     | 5/10 [00:24<00:24,  4.93s/it]"
     ]
    },
    {
     "name": "stdout",
     "output_type": "stream",
     "text": [
      "Saving fold 6\n",
      "X.shape: (371, 128, 1034, 1)\n",
      "y.shape: (371, 41)\n",
      "fname.shape: (371,)\n"
     ]
    },
    {
     "name": "stderr",
     "output_type": "stream",
     "text": [
      "\r",
      " 60%|██████    | 6/10 [00:29<00:19,  4.93s/it]"
     ]
    },
    {
     "name": "stdout",
     "output_type": "stream",
     "text": [
      "Saving fold 7\n",
      "X.shape: (371, 128, 1034, 1)\n",
      "y.shape: (371, 41)\n",
      "fname.shape: (371,)\n"
     ]
    },
    {
     "name": "stderr",
     "output_type": "stream",
     "text": [
      "\r",
      " 70%|███████   | 7/10 [00:34<00:14,  4.93s/it]"
     ]
    },
    {
     "name": "stdout",
     "output_type": "stream",
     "text": [
      "Saving fold 8\n",
      "X.shape: (371, 128, 1034, 1)\n",
      "y.shape: (371, 41)\n",
      "fname.shape: (371,)\n"
     ]
    },
    {
     "name": "stderr",
     "output_type": "stream",
     "text": [
      "\r",
      " 80%|████████  | 8/10 [00:39<00:09,  4.93s/it]"
     ]
    },
    {
     "name": "stdout",
     "output_type": "stream",
     "text": [
      "Saving fold 9\n",
      "X.shape: (371, 128, 1034, 1)\n",
      "y.shape: (371, 41)\n",
      "fname.shape: (371,)\n"
     ]
    },
    {
     "name": "stderr",
     "output_type": "stream",
     "text": [
      "\r",
      " 90%|█████████ | 9/10 [00:44<00:04,  4.93s/it]"
     ]
    },
    {
     "name": "stdout",
     "output_type": "stream",
     "text": [
      "Saving fold 10\n",
      "X.shape: (371, 128, 1034, 1)\n",
      "y.shape: (371, 41)\n",
      "fname.shape: (371,)\n"
     ]
    },
    {
     "name": "stderr",
     "output_type": "stream",
     "text": [
      "100%|██████████| 10/10 [00:49<00:00,  4.93s/it]\n"
     ]
    }
   ],
   "source": [
    "# map_path = path of 'map.pkl'\n",
    "map_path = 'data/map.pkl'#sys.argv[1]\n",
    "\n",
    "# base_path = directory of all the data (train_label.csv, X_train.npy)\n",
    "base_path = 'feature/fbank/'#sys.argv[2]\n",
    "\n",
    "# num_fold\n",
    "num_fold = 10#int(sys.argv[3])\n",
    "\n",
    "with open(map_path, 'rb') as f:\n",
    "    map_dict = pickle.load(f)\n",
    "\n",
    "verified = []\n",
    "\n",
    "train_label_path = os.path.join(base_path, 'train_label.csv')\n",
    "Y_train = pd.read_csv(train_label_path)\n",
    "\n",
    "for i in range(len(Y_train)):\n",
    "    if Y_train['manually_verified'][i] == 1:\n",
    "        verified.append(i)\n",
    "\n",
    "Y_train = Y_train.loc[verified,:]\n",
    "\n",
    "fname_all = Y_train['fname']\n",
    "fname_all = np.array(fname_all)\n",
    "print(fname_all)\n",
    "\n",
    "Y_dict = Y_train['label'].map(map_dict)\n",
    "Y_dict = np.array(Y_dict)\n",
    "\n",
    "Y_all = []\n",
    "for i in Y_dict:\n",
    "    Y_all.append(to_categorical(i, num_classes=41))\n",
    "Y_all = np.array(Y_all)\n",
    "\n",
    "X_train_path = os.path.join(base_path, 'X_train.npy')\n",
    "X_all = np.load(X_train_path)\n",
    "\n",
    "X_all = X_all[verified, :]\n",
    "\n",
    "idx = list(range(X_all.shape[0]))\n",
    "random.shuffle(idx)\n",
    "\n",
    "xSize = math.ceil(X_all.shape[0] / num_fold)\n",
    "\n",
    "split_X_path = os.path.join(base_path, 'X')\n",
    "split_y_path = os.path.join(base_path, 'y')\n",
    "split_fname_path = os.path.join(base_path, 'fname')\n",
    "\n",
    "if not os.path.exists(split_X_path):\n",
    "    os.makedirs(split_X_path)\n",
    "if not os.path.exists(split_y_path):\n",
    "    os.makedirs(split_y_path)\n",
    "if not os.path.exists(split_fname_path):\n",
    "    os.makedirs(split_fname_path)\n",
    "\n",
    "for i in tqdm(range(num_fold)):\n",
    "    X = X_all[idx[i*xSize:i*xSize+xSize]]\n",
    "    y = Y_all[idx[i*xSize:i*xSize+xSize]]\n",
    "    fname = fname_all[idx[i*xSize:i*xSize+xSize]]\n",
    "    print('Saving fold {}'.format(i+1))\n",
    "    print('X.shape:', X.shape)\n",
    "    print('y.shape:', y.shape)\n",
    "    print('fname.shape:', fname.shape)\n",
    "    filename = os.path.join(split_X_path, 'X' + str(i+1) + '.npy')\n",
    "    np.save(filename, X)\n",
    "    filename = os.path.join(split_y_path, 'y' + str(i+1) + '.npy')\n",
    "    np.save(filename, y)\n",
    "    filename = os.path.join(split_fname_path, 'fname' + str(i+1) + '.npy')\n",
    "    np.save(filename, fname)\n",
    "    time.sleep(1)"
   ]
  },
  {
   "cell_type": "code",
   "execution_count": 7,
   "metadata": {},
   "outputs": [
    {
     "data": {
      "text/plain": [
       "(3710, 128, 1034, 1)"
      ]
     },
     "execution_count": 7,
     "metadata": {},
     "output_type": "execute_result"
    }
   ],
   "source": [
    "X_all.shape"
   ]
  },
  {
   "cell_type": "code",
   "execution_count": 18,
   "metadata": {},
   "outputs": [],
   "source": [
    "X_test = np.load('feature/fbank/X_test.npy')\n",
    "X_all = np.load('feature/fbank/X_train.npy')"
   ]
  },
  {
   "cell_type": "code",
   "execution_count": 19,
   "metadata": {},
   "outputs": [],
   "source": [
    "X = np.concatenate((X_all, X_test))\n",
    "\n",
    "\n",
    "mean = np.mean(X,axis=0)\n",
    "std = np.std(X,axis=0)"
   ]
  },
  {
   "cell_type": "code",
   "execution_count": 20,
   "metadata": {},
   "outputs": [
    {
     "data": {
      "text/plain": [
       "(18873, 128, 1034, 1)"
      ]
     },
     "execution_count": 20,
     "metadata": {},
     "output_type": "execute_result"
    }
   ],
   "source": [
    "X = (X - mean)/std\n",
    "X.shape"
   ]
  },
  {
   "cell_type": "code",
   "execution_count": 22,
   "metadata": {},
   "outputs": [],
   "source": [
    "np.save('feature/fbank/mean.npy',mean)\n",
    "np.save('feature/fbank/std.npy',std)"
   ]
  }
 ],
 "metadata": {
  "kernelspec": {
   "display_name": "Python [conda env:anaconda3]",
   "language": "python",
   "name": "conda-env-anaconda3-py"
  },
  "language_info": {
   "codemirror_mode": {
    "name": "ipython",
    "version": 3
   },
   "file_extension": ".py",
   "mimetype": "text/x-python",
   "name": "python",
   "nbconvert_exporter": "python",
   "pygments_lexer": "ipython3",
   "version": "3.6.5"
  }
 },
 "nbformat": 4,
 "nbformat_minor": 2
}

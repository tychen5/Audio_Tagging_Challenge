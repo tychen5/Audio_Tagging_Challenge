{
 "cells": [
  {
   "cell_type": "code",
   "execution_count": 4,
   "metadata": {},
   "outputs": [],
   "source": [
    "from keras.models import load_model\n",
    "import numpy as np\n",
    "import sys\n",
    "import os\n",
    "import pickle as pk\n",
    "import pandas as pd\n",
    "from os import listdir\n",
    "from os.path import isfile, join\n",
    "\n",
    "from keras.utils import to_categorical ,Sequence\n",
    "from keras import losses, models, optimizers\n",
    "from keras.activations import relu, softmax\n",
    "from keras.callbacks import (EarlyStopping, LearningRateScheduler,\n",
    "                             ModelCheckpoint, TensorBoard, ReduceLROnPlateau)\n",
    "from keras.layers import (Convolution1D, Dense, Dropout, GlobalAveragePooling1D, \n",
    "                          GlobalMaxPool1D, Input, MaxPool1D, concatenate)\n",
    "from keras.layers import (Convolution2D, GlobalAveragePooling2D, BatchNormalization, Flatten,\n",
    "                          GlobalMaxPool2D, MaxPool2D, concatenate, Activation)\n",
    "from keras import backend as K                      \n",
    "import resnet\n",
    "# calculate accuracy\n",
    "from sklearn.metrics import accuracy_score\n",
    "pd.options.mode.chained_assignment = None"
   ]
  },
  {
   "cell_type": "code",
   "execution_count": 5,
   "metadata": {},
   "outputs": [],
   "source": [
    "model_path = 'model_full_resnet_refine'\n",
    "predict_path = 'csv'\n",
    "file_name = 'model_full_resnet_semi_{}.csv'"
   ]
  },
  {
   "cell_type": "code",
   "execution_count": 7,
   "metadata": {},
   "outputs": [
    {
     "name": "stdout",
     "output_type": "stream",
     "text": [
      "9376/9400 [============================>.] - ETA: 0s"
     ]
    }
   ],
   "source": [
    "map_dict = pk.load(open('data/map.pkl' , 'rb'))\n",
    "reverse_dict = pk.load(open('data/map_reverse.pkl' , 'rb'))\n",
    "audio_martix = np.load('data/mfcc/X_train.npy')\n",
    "\n",
    "\n",
    "\n",
    "test_X = np.load(\"data/X_test.npy\")\n",
    "test_fnames = pd.read_csv('data/sample_submission.csv')['fname'].values\n",
    "\n",
    "\n",
    "# fnames = np.concatenate([un_fnames , test_fnames])\n",
    "# X = np.concatenate([audio_martix[unmanu_veri_idx], test_X])\n",
    "\n",
    "for i in range(1,11):\n",
    "\n",
    "    model = load_model(join(model_path,'semi_{}.h5'.format(i)))\n",
    "    result = model.predict(test_X ,  verbose=1 , batch_size = 32)\n",
    "    df = pd.DataFrame(result)\n",
    "    df.insert(0,'fname' , test_fnames)\n",
    "    df.to_csv(join(predict_path, file_name.format(i)),index=False) \n",
    "    "
   ]
  },
  {
   "cell_type": "code",
   "execution_count": null,
   "metadata": {},
   "outputs": [],
   "source": []
  },
  {
   "cell_type": "code",
   "execution_count": null,
   "metadata": {},
   "outputs": [],
   "source": []
  },
  {
   "cell_type": "code",
   "execution_count": null,
   "metadata": {},
   "outputs": [],
   "source": []
  }
 ],
 "metadata": {
  "kernelspec": {
   "display_name": "ML",
   "language": "python",
   "name": "ml"
  },
  "language_info": {
   "codemirror_mode": {
    "name": "ipython",
    "version": 3
   },
   "file_extension": ".py",
   "mimetype": "text/x-python",
   "name": "python",
   "nbconvert_exporter": "python",
   "pygments_lexer": "ipython3",
   "version": "3.6.5"
  }
 },
 "nbformat": 4,
 "nbformat_minor": 2
}

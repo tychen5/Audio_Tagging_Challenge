{
 "cells": [
  {
   "cell_type": "code",
   "execution_count": 1,
   "metadata": {},
   "outputs": [
    {
     "name": "stderr",
     "output_type": "stream",
     "text": [
      "Using TensorFlow backend.\n",
      "/home/mike/Desktop/venv/lib/python3.5/site-packages/requests/__init__.py:80: RequestsDependencyWarning: urllib3 (1.23) or chardet (3.0.4) doesn't match a supported version!\n",
      "  RequestsDependencyWarning)\n"
     ]
    }
   ],
   "source": [
    "from keras.models import load_model\n",
    "import numpy as np\n",
    "import sys\n",
    "import os\n",
    "import pickle as pk\n",
    "import pandas as pd\n",
    "from os import listdir\n",
    "from os.path import isfile, join\n",
    "\n",
    "\n",
    "from keras.utils import to_categorical ,Sequence\n",
    "from keras import losses, models, optimizers\n",
    "from keras.activations import relu, softmax\n",
    "from keras.callbacks import (EarlyStopping, LearningRateScheduler,\n",
    "                             ModelCheckpoint, TensorBoard, ReduceLROnPlateau)\n",
    "\n",
    "from keras.layers import (Convolution1D, Dense, Dropout, GlobalAveragePooling1D, \n",
    "                          GlobalMaxPool1D, Input, MaxPool1D, concatenate)\n",
    "\n",
    "from keras.layers import (Convolution2D, GlobalAveragePooling2D, BatchNormalization, Flatten,\n",
    "                          GlobalMaxPool2D, MaxPool2D, concatenate, Activation)\n",
    "\n",
    "from keras import backend as K       \n",
    "\n",
    "# calculate accuracy\n",
    "from sklearn.metrics import accuracy_score\n",
    "\n",
    "\n",
    "\n",
    "# load data \n",
    "map_dict = pk.load(open('data/map.pkl' , 'rb'))\n",
    "X = np.load('data/X_test.npy')\n",
    "name = pd.read_csv('data/sample_submission.csv')\n",
    "X_name = name['fname'].tolist()\n",
    "\n",
    "\n",
    "head = list(range(0,41))\n",
    "head = [str(x) for x in head]\n",
    "\n",
    "\n",
    "csv_folder = 'predict_csv_2'\n",
    "\n",
    "if not os.path.exists(csv_folder):\n",
    "    os.mkdir(csv_folder)"
   ]
  },
  {
   "cell_type": "code",
   "execution_count": 2,
   "metadata": {},
   "outputs": [
    {
     "name": "stdout",
     "output_type": "stream",
     "text": [
      "9400/9400 [==============================] - 10s    \n",
      "9376/9400 [============================>.] - ETA: 0s"
     ]
    }
   ],
   "source": [
    "# # predict ================================================\n",
    "# # write to csv\n",
    "\n",
    "\n",
    "# # folders_1  = ['old_model/resnet_verified_refine_nonNormalize' ,\n",
    "# #             'resnet_verified_refine_nonNormalize_semi', ]\n",
    "\n",
    "\n",
    "folders_3  = ['model_full_resnet2_refine']\n",
    "\n",
    "for f in folders_3:\n",
    "     for path in listdir(f) :\n",
    "         model = load_model(join(f,path))\n",
    "         result = model.predict(X,verbose = 1 ,batch_size = 32)\n",
    "\n",
    "         df = pd.DataFrame(result)\n",
    "         df.insert(0,'fname' , X_name)\n",
    "         df.to_csv(join(csv_folder , 'mike_resnet2_{}.csv'.format(path)), index=False)\n",
    "\n",
    "\n"
   ]
  },
  {
   "cell_type": "code",
   "execution_count": 3,
   "metadata": {},
   "outputs": [
    {
     "name": "stdout",
     "output_type": "stream",
     "text": [
      "predict_csv_2/mike_resnet2_semi_7_0.92722.h5.csv\n",
      "predict_csv_2/mike_resnet2_semi_1.h5.csv\n",
      "predict_csv_2/mike_resnet2_semi_2.h5.csv\n",
      "predict_csv_2/mike_resnet2_semi_9.h5.csv\n",
      "predict_csv_2/mike_resnet2_semi_4_0.88679.h5.csv\n",
      "predict_csv_2/mike_resnet2_semi_10.h5.csv\n",
      "predict_csv_2/mike_resnet2_semi_6_0.86253.h5.csv\n",
      "predict_csv_2/mike_resnet2_semi_5_0.90027.h5.csv\n",
      "predict_csv_2/mike_resnet2_semi_8.h5.csv\n",
      "predict_csv_2/mike_resnet2_semi_3.h5.csv\n",
      "predict_csv_2/mike_resnet2_semi_8_0.87871.h5.csv\n",
      "predict_csv_2/mike_resnet2_semi_9_0.90296.h5.csv\n",
      "predict_csv_2/mike_resnet2_semi_3_0.89218.h5.csv\n",
      "predict_csv_2/mike_resnet2_semi_7.h5.csv\n",
      "predict_csv_2/mike_resnet2_semi_5.h5.csv\n",
      "predict_csv_2/mike_resnet2_semi_2_0.88679.h5.csv\n",
      "predict_csv_2/mike_resnet2_semi_6.h5.csv\n",
      "predict_csv_2/mike_resnet2_semi_10_0.90296.h5.csv\n",
      "predict_csv_2/mike_resnet2_semi_1_0.89218.h5.csv\n",
      "predict_csv_2/mike_resnet2_semi_4.h5.csv\n",
      "          fname                               label\n",
      "0  00063640.wav      Shatter Keys_jangling Scissors\n",
      "1  0013a1db.wav    Flute Violin_or_fiddle Bass_drum\n",
      "2  002bb878.wav  Knock Bass_drum Gunshot_or_gunfire\n"
     ]
    }
   ],
   "source": [
    "\n",
    "# csv voting=========================================================================================================================\n",
    "\n",
    "score = np.zeros((9400,41))\n",
    "\n",
    "\n",
    "for path in listdir(csv_folder) :\n",
    "        print(join(csv_folder , path))\n",
    "        df = pd.read_csv(join(csv_folder,path))\n",
    "        del df['fname']\n",
    "        v = df.values\n",
    "        score += v\n",
    "\n",
    "\n",
    "# pick best 3 class\n",
    "output = []\n",
    "reverse_dict = pk.load(open('data/map_reverse.pkl' , 'rb'))\n",
    "\n",
    "for i , d in enumerate( score):\n",
    "\n",
    "    top3 = d.argsort()[-3:][::-1]\n",
    "    result = [reverse_dict[x] for x in top3]\n",
    "    s = ' '.join(result)\n",
    "\n",
    "    output.append(s)\n",
    "    \n",
    "    \n",
    "df = pd.DataFrame(output , columns = ['label'])\n",
    "df.insert(0,'fname' , X_name)\n",
    "df.to_csv('ans_semi_ensemble.csv', index=False)\n",
    "print(df.head(3))"
   ]
  },
  {
   "cell_type": "code",
   "execution_count": null,
   "metadata": {},
   "outputs": [],
   "source": []
  }
 ],
 "metadata": {
  "kernelspec": {
   "display_name": "ML",
   "language": "python",
   "name": "ml"
  },
  "language_info": {
   "codemirror_mode": {
    "name": "ipython",
    "version": 3
   },
   "file_extension": ".py",
   "mimetype": "text/x-python",
   "name": "python",
   "nbconvert_exporter": "python",
   "pygments_lexer": "ipython3",
   "version": "3.5.2"
  }
 },
 "nbformat": 4,
 "nbformat_minor": 2
}
